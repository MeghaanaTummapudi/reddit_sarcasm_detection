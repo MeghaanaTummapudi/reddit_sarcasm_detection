{
 "cells": [
  {
   "cell_type": "code",
   "execution_count": 43,
   "metadata": {},
   "outputs": [],
   "source": [
    "import pandas as pd\n",
    "import re,nltk,swifter\n",
    "import matplotlib.pyplot as plt\n",
    "import seaborn as sn\n",
    "from nltk.tokenize import TweetTokenizer\n",
    "from nltk.corpus import stopwords\n",
    "from sklearn.feature_extraction.text import TfidfVectorizer\n",
    "from sklearn.linear_model import LogisticRegression\n",
    "from sklearn.pipeline import Pipeline\n",
    "from sklearn.model_selection import train_test_split\n",
    "from sklearn.metrics import accuracy_score, confusion_matrix\n",
    "from sklearn.metrics import plot_confusion_matrix"
   ]
  },
  {
   "cell_type": "code",
   "execution_count": 14,
   "metadata": {},
   "outputs": [
    {
     "data": {
      "text/html": [
       "<div>\n",
       "<style scoped>\n",
       "    .dataframe tbody tr th:only-of-type {\n",
       "        vertical-align: middle;\n",
       "    }\n",
       "\n",
       "    .dataframe tbody tr th {\n",
       "        vertical-align: top;\n",
       "    }\n",
       "\n",
       "    .dataframe thead th {\n",
       "        text-align: right;\n",
       "    }\n",
       "</style>\n",
       "<table border=\"1\" class=\"dataframe\">\n",
       "  <thead>\n",
       "    <tr style=\"text-align: right;\">\n",
       "      <th></th>\n",
       "      <th>label</th>\n",
       "      <th>comment</th>\n",
       "      <th>author</th>\n",
       "      <th>score</th>\n",
       "      <th>created_utc</th>\n",
       "      <th>parent_comment</th>\n",
       "    </tr>\n",
       "  </thead>\n",
       "  <tbody>\n",
       "    <tr>\n",
       "      <th>0</th>\n",
       "      <td>0</td>\n",
       "      <td>NC and NH.</td>\n",
       "      <td>Trumpbart</td>\n",
       "      <td>2</td>\n",
       "      <td>2016-10-16 23:55:23</td>\n",
       "      <td>Yeah, I get that argument. At this point, I'd ...</td>\n",
       "    </tr>\n",
       "    <tr>\n",
       "      <th>1</th>\n",
       "      <td>0</td>\n",
       "      <td>You do know west teams play against west teams...</td>\n",
       "      <td>Shbshb906</td>\n",
       "      <td>-4</td>\n",
       "      <td>2016-11-01 00:24:10</td>\n",
       "      <td>The blazers and Mavericks (The wests 5 and 6 s...</td>\n",
       "    </tr>\n",
       "    <tr>\n",
       "      <th>2</th>\n",
       "      <td>0</td>\n",
       "      <td>They were underdogs earlier today, but since G...</td>\n",
       "      <td>Creepeth</td>\n",
       "      <td>3</td>\n",
       "      <td>2016-09-22 21:45:37</td>\n",
       "      <td>They're favored to win.</td>\n",
       "    </tr>\n",
       "    <tr>\n",
       "      <th>3</th>\n",
       "      <td>0</td>\n",
       "      <td>This meme isn't funny none of the \"new york ni...</td>\n",
       "      <td>icebrotha</td>\n",
       "      <td>-8</td>\n",
       "      <td>2016-10-18 21:03:47</td>\n",
       "      <td>deadass don't kill my buzz</td>\n",
       "    </tr>\n",
       "    <tr>\n",
       "      <th>4</th>\n",
       "      <td>0</td>\n",
       "      <td>I could use one of those tools.</td>\n",
       "      <td>cush2push</td>\n",
       "      <td>6</td>\n",
       "      <td>2016-12-30 17:00:13</td>\n",
       "      <td>Yep can confirm I saw the tool they use for th...</td>\n",
       "    </tr>\n",
       "  </tbody>\n",
       "</table>\n",
       "</div>"
      ],
      "text/plain": [
       "   label                                            comment     author  score  \\\n",
       "0      0                                         NC and NH.  Trumpbart      2   \n",
       "1      0  You do know west teams play against west teams...  Shbshb906     -4   \n",
       "2      0  They were underdogs earlier today, but since G...   Creepeth      3   \n",
       "3      0  This meme isn't funny none of the \"new york ni...  icebrotha     -8   \n",
       "4      0                    I could use one of those tools.  cush2push      6   \n",
       "\n",
       "           created_utc                                     parent_comment  \n",
       "0  2016-10-16 23:55:23  Yeah, I get that argument. At this point, I'd ...  \n",
       "1  2016-11-01 00:24:10  The blazers and Mavericks (The wests 5 and 6 s...  \n",
       "2  2016-09-22 21:45:37                            They're favored to win.  \n",
       "3  2016-10-18 21:03:47                         deadass don't kill my buzz  \n",
       "4  2016-12-30 17:00:13  Yep can confirm I saw the tool they use for th...  "
      ]
     },
     "execution_count": 14,
     "metadata": {},
     "output_type": "execute_result"
    }
   ],
   "source": [
    "df = pd.read_csv(r'C:\\Users\\prasr\\Documents\\Northeastern\\IDMP\\Project\\reddit_sarcasm_detection\\data\\interim\\parent_cleaned_sarcasm_with_sentiment.csv')\n",
    "df = df.fillna('')\n",
    "df = df[['label','comment','author','score','created_utc','parent_comment']]\n",
    "df.head()"
   ]
  },
  {
   "cell_type": "markdown",
   "metadata": {},
   "source": [
    "## Clean comments"
   ]
  },
  {
   "cell_type": "code",
   "execution_count": 76,
   "metadata": {},
   "outputs": [
    {
     "name": "stderr",
     "output_type": "stream",
     "text": [
      "Dask Apply: 100%|██████████| 32/32 [00:20<00:00,  1.56it/s]\n"
     ]
    }
   ],
   "source": [
    "stops = set(stopwords.words('english')) - {'no','not','nor','against','above','below','off','own'}\n",
    "def clean_text(comment):\n",
    "    text = str(comment)\n",
    "    text = re.sub(r'http[s]?://(?:[a-zA-Z]|[0-9]|[$-_@.&+]|[!*\\(\\), ]|(?:%[0-9a-fA-F][0-9a-fA-F]))+',' ',text)\n",
    "    text = re.sub(\"<.*?>\", \" \", text)\n",
    "    text = re.sub(r\"[0-9]+\",\" \",text)\n",
    "    text = re.sub(r\"@[A-Za-z0-9]+\",\" \",text)\n",
    "    text = re.sub(r\"won't\", \"will not\", text)\n",
    "    text = re.sub(r\"can\\'t\", \"can not\", text)\n",
    "    text = re.sub(r\"n\\'t\", \" not\", text)\n",
    "    text = re.sub(r\"\\'re\", \" are\", text)\n",
    "    text = re.sub(r\"\\'s\", \" is\", text)\n",
    "    text = re.sub(r\"\\'d\", \" would\", text)\n",
    "    text = re.sub(r\"\\'ll\", \" will\", text)\n",
    "    text = re.sub(r\"\\'t\", \" not\", text)\n",
    "    text = re.sub(r\"\\'ve\", \" have\", text)\n",
    "    text = re.sub(r\"\\'m\", \" am\", text)\n",
    "    text = re.sub(r\"n\\'t\", ' not',text)\n",
    "    text = text.replace('\\\\r', ' ')\n",
    "    text = text.replace('\\\\\"', ' ')\n",
    "    text = text.replace('\\\\n', ' ')\n",
    "    text = re.sub('[^A-Za-z0-9]+',' ', text)\n",
    "    tokenizer = TweetTokenizer(strip_handles=True, reduce_len=True)\n",
    "    text = ' '.join(token for token in tokenizer.tokenize(text.lower()) if token not in stops)\n",
    "    text = text.lower().strip()\n",
    "    return text\n",
    "\n",
    "df[\"cleaned_comment\"] = df.swifter.apply(lambda x: clean_text(x[\"comment\"]),axis=1)\n"
   ]
  },
  {
   "cell_type": "markdown",
   "metadata": {},
   "source": [
    "## Test train split"
   ]
  },
  {
   "cell_type": "code",
   "execution_count": 77,
   "metadata": {},
   "outputs": [],
   "source": [
    "train_x, val_x,train_y , val_y = train_test_split(df.drop('label',axis=1),df['label'],random_state=123,test_size=0.20)"
   ]
  },
  {
   "cell_type": "code",
   "execution_count": 78,
   "metadata": {},
   "outputs": [],
   "source": [
    "import pandas as pd\n",
    "import numpy as np\n",
    "import plotly.express as px\n",
    "import matplotlib.pyplot as plt\n",
    "from nltk.corpus import stopwords\n",
    "from spacytextblob.spacytextblob import SpacyTextBlob\n",
    "from profanity_filter import ProfanityFilter\n",
    "import dask.dataframe as dd\n",
    "import nltk,spacy,swifter"
   ]
  },
  {
   "cell_type": "code",
   "execution_count": 79,
   "metadata": {},
   "outputs": [
    {
     "data": {
      "text/html": [
       "<div>\n",
       "<style scoped>\n",
       "    .dataframe tbody tr th:only-of-type {\n",
       "        vertical-align: middle;\n",
       "    }\n",
       "\n",
       "    .dataframe tbody tr th {\n",
       "        vertical-align: top;\n",
       "    }\n",
       "\n",
       "    .dataframe thead th {\n",
       "        text-align: right;\n",
       "    }\n",
       "</style>\n",
       "<table border=\"1\" class=\"dataframe\">\n",
       "  <thead>\n",
       "    <tr style=\"text-align: right;\">\n",
       "      <th></th>\n",
       "      <th>comment</th>\n",
       "      <th>author</th>\n",
       "      <th>score</th>\n",
       "      <th>created_utc</th>\n",
       "      <th>parent_comment</th>\n",
       "      <th>cleaned_comment</th>\n",
       "      <th>cleaned_parent_comment</th>\n",
       "      <th>cleaned_parent_child_comment</th>\n",
       "    </tr>\n",
       "  </thead>\n",
       "  <tbody>\n",
       "    <tr>\n",
       "      <th>515596</th>\n",
       "      <td>IT WOULD ACTUALLY LET ME TECH IN LESS GRAVE ST...</td>\n",
       "      <td>KuroKitsu</td>\n",
       "      <td>-1</td>\n",
       "      <td>2015-07-17 02:15:56</td>\n",
       "      <td>I ACTUALLY WOULD LIKE THAT</td>\n",
       "      <td>would actually let tech less grave state depen...</td>\n",
       "      <td>actually would like</td>\n",
       "      <td>actually would like would actually let tech le...</td>\n",
       "    </tr>\n",
       "    <tr>\n",
       "      <th>839865</th>\n",
       "      <td>I hope that was</td>\n",
       "      <td>iMMinime</td>\n",
       "      <td>1</td>\n",
       "      <td>2014-06-19 20:53:36</td>\n",
       "      <td>You know shit is serious when game community i...</td>\n",
       "      <td>hope</td>\n",
       "      <td>know shit serious game community angry girls</td>\n",
       "      <td>know shit serious game community angry girls hope</td>\n",
       "    </tr>\n",
       "    <tr>\n",
       "      <th>361527</th>\n",
       "      <td>Can I ask who you are supporting as a \"Serious...</td>\n",
       "      <td>JinxsLover</td>\n",
       "      <td>7</td>\n",
       "      <td>2016-02-28 04:45:58</td>\n",
       "      <td>I think there's enough people who recognize wh...</td>\n",
       "      <td>ask supporting serious mind cruz equally conce...</td>\n",
       "      <td>think enough people recognize train wreck woul...</td>\n",
       "      <td>think enough people recognize train wreck woul...</td>\n",
       "    </tr>\n",
       "    <tr>\n",
       "      <th>783999</th>\n",
       "      <td>What's Yahoo?</td>\n",
       "      <td>MINUS_Stl</td>\n",
       "      <td>2</td>\n",
       "      <td>2014-12-26 06:43:37</td>\n",
       "      <td>Oh wow, I haven't been on yahoo in awhile. Did...</td>\n",
       "      <td>yahoo</td>\n",
       "      <td>oh wow yahoo awhile realize getting official p...</td>\n",
       "      <td>oh wow yahoo awhile realize getting official p...</td>\n",
       "    </tr>\n",
       "    <tr>\n",
       "      <th>476848</th>\n",
       "      <td>Brilliant observation.</td>\n",
       "      <td>PedanticWookiee</td>\n",
       "      <td>0</td>\n",
       "      <td>2016-03-18 22:24:11</td>\n",
       "      <td>Fitting username</td>\n",
       "      <td>brilliant observation</td>\n",
       "      <td>fitting username</td>\n",
       "      <td>fitting username brilliant observation</td>\n",
       "    </tr>\n",
       "  </tbody>\n",
       "</table>\n",
       "</div>"
      ],
      "text/plain": [
       "                                                  comment           author  \\\n",
       "515596  IT WOULD ACTUALLY LET ME TECH IN LESS GRAVE ST...        KuroKitsu   \n",
       "839865                                    I hope that was         iMMinime   \n",
       "361527  Can I ask who you are supporting as a \"Serious...       JinxsLover   \n",
       "783999                                      What's Yahoo?        MINUS_Stl   \n",
       "476848                             Brilliant observation.  PedanticWookiee   \n",
       "\n",
       "        score          created_utc  \\\n",
       "515596     -1  2015-07-17 02:15:56   \n",
       "839865      1  2014-06-19 20:53:36   \n",
       "361527      7  2016-02-28 04:45:58   \n",
       "783999      2  2014-12-26 06:43:37   \n",
       "476848      0  2016-03-18 22:24:11   \n",
       "\n",
       "                                           parent_comment  \\\n",
       "515596                         I ACTUALLY WOULD LIKE THAT   \n",
       "839865  You know shit is serious when game community i...   \n",
       "361527  I think there's enough people who recognize wh...   \n",
       "783999  Oh wow, I haven't been on yahoo in awhile. Did...   \n",
       "476848                                   Fitting username   \n",
       "\n",
       "                                          cleaned_comment  \\\n",
       "515596  would actually let tech less grave state depen...   \n",
       "839865                                               hope   \n",
       "361527  ask supporting serious mind cruz equally conce...   \n",
       "783999                                              yahoo   \n",
       "476848                              brilliant observation   \n",
       "\n",
       "                                   cleaned_parent_comment  \\\n",
       "515596                                actually would like   \n",
       "839865       know shit serious game community angry girls   \n",
       "361527  think enough people recognize train wreck woul...   \n",
       "783999  oh wow yahoo awhile realize getting official p...   \n",
       "476848                                   fitting username   \n",
       "\n",
       "                             cleaned_parent_child_comment  \n",
       "515596  actually would like would actually let tech le...  \n",
       "839865  know shit serious game community angry girls hope  \n",
       "361527  think enough people recognize train wreck woul...  \n",
       "783999  oh wow yahoo awhile realize getting official p...  \n",
       "476848             fitting username brilliant observation  "
      ]
     },
     "execution_count": 79,
     "metadata": {},
     "output_type": "execute_result"
    }
   ],
   "source": [
    "train_x.head()"
   ]
  },
  {
   "cell_type": "code",
   "execution_count": 80,
   "metadata": {},
   "outputs": [],
   "source": [
    "train_txt = train_x['cleaned_comment']\n",
    "val_txt = val_x['cleaned_comment']"
   ]
  },
  {
   "cell_type": "markdown",
   "metadata": {},
   "source": [
    "# TF-IDF & LogisticRegression (wt only comments)"
   ]
  },
  {
   "cell_type": "code",
   "execution_count": 81,
   "metadata": {},
   "outputs": [],
   "source": [
    "# bigram and trigram vectorizer\n",
    "tfidf_vectorizer = TfidfVectorizer(ngram_range=(1,2),min_df=2,max_features=6000)\n",
    "# X = vectorizer.fit_transform()\n",
    "clf = LogisticRegression(random_state=123,n_jobs=4,verbose=1,max_iter = 300)\n",
    "\n",
    "tfidf_log_reg_pipeline =  Pipeline([('tf_idf',tfidf_vectorizer),('logit',clf)])\n"
   ]
  },
  {
   "cell_type": "code",
   "execution_count": 82,
   "metadata": {},
   "outputs": [
    {
     "name": "stderr",
     "output_type": "stream",
     "text": [
      "[Parallel(n_jobs=4)]: Using backend LokyBackend with 4 concurrent workers.\n",
      "[Parallel(n_jobs=4)]: Done   1 out of   1 | elapsed:   12.7s finished\n"
     ]
    },
    {
     "name": "stdout",
     "output_type": "stream",
     "text": [
      "Wall time: 27.6 s\n"
     ]
    },
    {
     "data": {
      "text/plain": [
       "Pipeline(steps=[('tf_idf',\n",
       "                 TfidfVectorizer(max_features=6000, min_df=2,\n",
       "                                 ngram_range=(1, 2))),\n",
       "                ('logit',\n",
       "                 LogisticRegression(max_iter=300, n_jobs=4, random_state=123,\n",
       "                                    verbose=1))])"
      ]
     },
     "execution_count": 82,
     "metadata": {},
     "output_type": "execute_result"
    }
   ],
   "source": [
    "%%time\n",
    "tfidf_log_reg_pipeline.fit(train_txt,train_y)"
   ]
  },
  {
   "cell_type": "code",
   "execution_count": 83,
   "metadata": {},
   "outputs": [
    {
     "name": "stdout",
     "output_type": "stream",
     "text": [
      "Wall time: 1.69 s\n"
     ]
    },
    {
     "data": {
      "text/plain": [
       "0.6778759300271232"
      ]
     },
     "execution_count": 83,
     "metadata": {},
     "output_type": "execute_result"
    }
   ],
   "source": [
    "%%time\n",
    "val_predict = tfidf_log_reg_pipeline.predict(val_txt)\n",
    "accuracy_score(val_y,val_predict)"
   ]
  },
  {
   "cell_type": "code",
   "execution_count": 84,
   "metadata": {},
   "outputs": [
    {
     "data": {
      "text/plain": [
       "<AxesSubplot:>"
      ]
     },
     "execution_count": 84,
     "metadata": {},
     "output_type": "execute_result"
    },
    {
     "data": {
      "image/png": "[encoded data removed]",
      "text/plain": [
       "<Figure size 432x288 with 2 Axes>"
      ]
     },
     "metadata": {
      "needs_background": "light"
     },
     "output_type": "display_data"
    }
   ],
   "source": [
    "log_regression_conf_mat = confusion_matrix(val_y,val_predict)\n",
    "# sn.heatmap(log_regression_conf_mat, annot=True,cmap='Blues')\n",
    "group_names = ['True Neg','False Pos','False Neg','True Pos']\n",
    "group_counts = [\"{0:0.0f}\".format(value) for value in\n",
    "                log_regression_conf_mat.flatten()]\n",
    "group_percentages = [\"{0:.2%}\".format(value) for value in\n",
    "                     log_regression_conf_mat.flatten()/np.sum(log_regression_conf_mat)]\n",
    "labels = [f\"{v1}\\n{v2}\\n{v3}\" for v1, v2, v3 in\n",
    "          zip(group_names,group_counts,group_percentages)]\n",
    "labels = np.asarray(labels).reshape(2,2)\n",
    "sn.heatmap(log_regression_conf_mat, annot=labels, fmt='', cmap='Blues')"
   ]
  },
  {
   "cell_type": "markdown",
   "metadata": {},
   "source": [
    "# TF_IDF & Logistic Regression (Wt parent & child comment)"
   ]
  },
  {
   "cell_type": "code",
   "execution_count": 54,
   "metadata": {},
   "outputs": [
    {
     "name": "stderr",
     "output_type": "stream",
     "text": [
      "Dask Apply: 100%|██████████| 32/32 [00:29<00:00,  1.07it/s]\n"
     ]
    },
    {
     "data": {
      "text/html": [
       "<div>\n",
       "<style scoped>\n",
       "    .dataframe tbody tr th:only-of-type {\n",
       "        vertical-align: middle;\n",
       "    }\n",
       "\n",
       "    .dataframe tbody tr th {\n",
       "        vertical-align: top;\n",
       "    }\n",
       "\n",
       "    .dataframe thead th {\n",
       "        text-align: right;\n",
       "    }\n",
       "</style>\n",
       "<table border=\"1\" class=\"dataframe\">\n",
       "  <thead>\n",
       "    <tr style=\"text-align: right;\">\n",
       "      <th></th>\n",
       "      <th>label</th>\n",
       "      <th>comment</th>\n",
       "      <th>author</th>\n",
       "      <th>score</th>\n",
       "      <th>created_utc</th>\n",
       "      <th>parent_comment</th>\n",
       "      <th>cleaned_comment</th>\n",
       "      <th>cleaned_parent_comment</th>\n",
       "      <th>cleaned_parent_child_comment</th>\n",
       "    </tr>\n",
       "  </thead>\n",
       "  <tbody>\n",
       "    <tr>\n",
       "      <th>0</th>\n",
       "      <td>0</td>\n",
       "      <td>NC and NH.</td>\n",
       "      <td>Trumpbart</td>\n",
       "      <td>2</td>\n",
       "      <td>2016-10-16 23:55:23</td>\n",
       "      <td>Yeah, I get that argument. At this point, I'd ...</td>\n",
       "      <td>nc nh</td>\n",
       "      <td>yeah get argument point would prefer lived nc ...</td>\n",
       "      <td>yeah get argument point would prefer lived nc ...</td>\n",
       "    </tr>\n",
       "    <tr>\n",
       "      <th>1</th>\n",
       "      <td>0</td>\n",
       "      <td>You do know west teams play against west teams...</td>\n",
       "      <td>Shbshb906</td>\n",
       "      <td>-4</td>\n",
       "      <td>2016-11-01 00:24:10</td>\n",
       "      <td>The blazers and Mavericks (The wests 5 and 6 s...</td>\n",
       "      <td>know west teams play west teams east teams right</td>\n",
       "      <td>blazers mavericks wests seed even carry good e...</td>\n",
       "      <td>blazers mavericks wests seed even carry good e...</td>\n",
       "    </tr>\n",
       "    <tr>\n",
       "      <th>2</th>\n",
       "      <td>0</td>\n",
       "      <td>They were underdogs earlier today, but since G...</td>\n",
       "      <td>Creepeth</td>\n",
       "      <td>3</td>\n",
       "      <td>2016-09-22 21:45:37</td>\n",
       "      <td>They're favored to win.</td>\n",
       "      <td>underdogs earlier today since gronk announceme...</td>\n",
       "      <td>favored win</td>\n",
       "      <td>favored win underdogs earlier today since gron...</td>\n",
       "    </tr>\n",
       "    <tr>\n",
       "      <th>3</th>\n",
       "      <td>0</td>\n",
       "      <td>This meme isn't funny none of the \"new york ni...</td>\n",
       "      <td>icebrotha</td>\n",
       "      <td>-8</td>\n",
       "      <td>2016-10-18 21:03:47</td>\n",
       "      <td>deadass don't kill my buzz</td>\n",
       "      <td>meme funny none new york nigga ones</td>\n",
       "      <td>deadass kill buzz</td>\n",
       "      <td>deadass kill buzz meme funny none new york nig...</td>\n",
       "    </tr>\n",
       "    <tr>\n",
       "      <th>4</th>\n",
       "      <td>0</td>\n",
       "      <td>I could use one of those tools.</td>\n",
       "      <td>cush2push</td>\n",
       "      <td>6</td>\n",
       "      <td>2016-12-30 17:00:13</td>\n",
       "      <td>Yep can confirm I saw the tool they use for th...</td>\n",
       "      <td>could use one tools</td>\n",
       "      <td>yep confirm saw tool use made boy easports mut</td>\n",
       "      <td>yep confirm saw tool use made boy easports mut...</td>\n",
       "    </tr>\n",
       "  </tbody>\n",
       "</table>\n",
       "</div>"
      ],
      "text/plain": [
       "   label                                            comment     author  score  \\\n",
       "0      0                                         NC and NH.  Trumpbart      2   \n",
       "1      0  You do know west teams play against west teams...  Shbshb906     -4   \n",
       "2      0  They were underdogs earlier today, but since G...   Creepeth      3   \n",
       "3      0  This meme isn't funny none of the \"new york ni...  icebrotha     -8   \n",
       "4      0                    I could use one of those tools.  cush2push      6   \n",
       "\n",
       "           created_utc                                     parent_comment  \\\n",
       "0  2016-10-16 23:55:23  Yeah, I get that argument. At this point, I'd ...   \n",
       "1  2016-11-01 00:24:10  The blazers and Mavericks (The wests 5 and 6 s...   \n",
       "2  2016-09-22 21:45:37                            They're favored to win.   \n",
       "3  2016-10-18 21:03:47                         deadass don't kill my buzz   \n",
       "4  2016-12-30 17:00:13  Yep can confirm I saw the tool they use for th...   \n",
       "\n",
       "                                     cleaned_comment  \\\n",
       "0                                              nc nh   \n",
       "1   know west teams play west teams east teams right   \n",
       "2  underdogs earlier today since gronk announceme...   \n",
       "3                meme funny none new york nigga ones   \n",
       "4                                could use one tools   \n",
       "\n",
       "                              cleaned_parent_comment  \\\n",
       "0  yeah get argument point would prefer lived nc ...   \n",
       "1  blazers mavericks wests seed even carry good e...   \n",
       "2                                        favored win   \n",
       "3                                  deadass kill buzz   \n",
       "4     yep confirm saw tool use made boy easports mut   \n",
       "\n",
       "                        cleaned_parent_child_comment  \n",
       "0  yeah get argument point would prefer lived nc ...  \n",
       "1  blazers mavericks wests seed even carry good e...  \n",
       "2  favored win underdogs earlier today since gron...  \n",
       "3  deadass kill buzz meme funny none new york nig...  \n",
       "4  yep confirm saw tool use made boy easports mut...  "
      ]
     },
     "execution_count": 54,
     "metadata": {},
     "output_type": "execute_result"
    }
   ],
   "source": [
    "df[\"cleaned_parent_comment\"] = df.swifter.apply(lambda x: clean_text(x[\"parent_comment\"]),axis=1)\n",
    "df['cleaned_parent_child_comment'] = df['cleaned_parent_comment'] +' '+ df['cleaned_comment']\n",
    "df.head()"
   ]
  },
  {
   "cell_type": "code",
   "execution_count": 62,
   "metadata": {},
   "outputs": [],
   "source": [
    "train_x, val_x,train_y , val_y = train_test_split(df.drop('label',axis=1),df['label'],random_state=123,test_size=0.20)\n",
    "train_txt = train_x['cleaned_parent_child_comment']\n",
    "val_txt = val_x['cleaned_parent_child_comment']"
   ]
  },
  {
   "cell_type": "code",
   "execution_count": 63,
   "metadata": {},
   "outputs": [
    {
     "name": "stderr",
     "output_type": "stream",
     "text": [
      "[Parallel(n_jobs=4)]: Using backend LokyBackend with 4 concurrent workers.\n",
      "[Parallel(n_jobs=4)]: Done   1 out of   1 | elapsed:    5.6s finished\n"
     ]
    },
    {
     "name": "stdout",
     "output_type": "stream",
     "text": [
      "Wall time: 51.1 s\n"
     ]
    },
    {
     "data": {
      "text/plain": [
       "Pipeline(steps=[('tf_idf',\n",
       "                 TfidfVectorizer(max_features=6000, min_df=2,\n",
       "                                 ngram_range=(1, 2))),\n",
       "                ('logit',\n",
       "                 LogisticRegression(max_iter=300, n_jobs=4, random_state=123,\n",
       "                                    verbose=1))])"
      ]
     },
     "execution_count": 63,
     "metadata": {},
     "output_type": "execute_result"
    }
   ],
   "source": [
    "%%time\n",
    "tfidf_log_reg_pipeline.fit(train_txt,train_y)"
   ]
  },
  {
   "cell_type": "code",
   "execution_count": 64,
   "metadata": {},
   "outputs": [
    {
     "name": "stdout",
     "output_type": "stream",
     "text": [
      "Wall time: 4.24 s\n"
     ]
    },
    {
     "data": {
      "text/plain": [
       "0.649140269241297"
      ]
     },
     "execution_count": 64,
     "metadata": {},
     "output_type": "execute_result"
    }
   ],
   "source": [
    "%%time\n",
    "val_predict = tfidf_log_reg_pipeline.predict(val_txt)\n",
    "accuracy_score(val_y,val_predict)"
   ]
  },
  {
   "cell_type": "code",
   "execution_count": 65,
   "metadata": {},
   "outputs": [
    {
     "data": {
      "text/plain": [
       "<AxesSubplot:>"
      ]
     },
     "execution_count": 65,
     "metadata": {},
     "output_type": "execute_result"
    },
    {
     "data": {
      "image/png": "[encoded data removed]",
      "text/plain": [
       "<Figure size 432x288 with 2 Axes>"
      ]
     },
     "metadata": {
      "needs_background": "light"
     },
     "output_type": "display_data"
    }
   ],
   "source": [
    "log_regression_conf_mat = confusion_matrix(val_y,val_predict)\n",
    "# sn.heatmap(log_regression_conf_mat, annot=True,cmap='Blues')\n",
    "group_names = ['True Neg','False Pos','False Neg','True Pos']\n",
    "group_counts = [\"{0:0.0f}\".format(value) for value in\n",
    "                log_regression_conf_mat.flatten()]\n",
    "group_percentages = [\"{0:.2%}\".format(value) for value in\n",
    "                     log_regression_conf_mat.flatten()/np.sum(log_regression_conf_mat)]\n",
    "labels = [f\"{v1}\\n{v2}\\n{v3}\" for v1, v2, v3 in\n",
    "          zip(group_names,group_counts,group_percentages)]\n",
    "labels = np.asarray(labels).reshape(2,2)\n",
    "sn.heatmap(log_regression_conf_mat, annot=labels, fmt='', cmap='Blues')"
   ]
  },
  {
   "cell_type": "code",
   "execution_count": 50,
   "metadata": {},
   "outputs": [],
   "source": [
    "# TODO svm, random forest, decision tree, xgboost using Hyperopt ."
   ]
  },
  {
   "cell_type": "code",
   "execution_count": 51,
   "metadata": {},
   "outputs": [],
   "source": [
    "# TODO run cnn model\n"
   ]
  },
  {
   "cell_type": "code",
   "execution_count": null,
   "metadata": {},
   "outputs": [],
   "source": []
  }
 ],
 "metadata": {
  "interpreter": {
   "hash": "36f0e4b0a7ea5d9009060c84ac0572df4a90298368e23ad6ca51e547eda0a6da"
  },
  "kernelspec": {
   "display_name": "Python 3.9.7 64-bit ('NLP_sarcasm': conda)",
   "language": "python",
   "name": "python3"
  },
  "language_info": {
   "codemirror_mode": {
    "name": "ipython",
    "version": 3
   },
   "file_extension": ".py",
   "mimetype": "text/x-python",
   "name": "python",
   "nbconvert_exporter": "python",
   "pygments_lexer": "ipython3",
   "version": "3.9.7"
  },
  "orig_nbformat": 4
 },
 "nbformat": 4,
 "nbformat_minor": 2
}
